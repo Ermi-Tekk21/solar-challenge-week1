{
 "cells": [
  {
   "cell_type": "markdown",
   "metadata": {},
   "source": [
    "# Exploratory Data Analysis (EDA) for Sierra Leone Solar Dataset\n",
    "\n",
    "This notebook performs data profiling, cleaning, and exploratory data analysis on the Sierra Leone solar dataset as part of the 10 Academy Solar Data Discovery Week 0 Challenge.\n",
    "\n",
    "## Objectives\n",
    "- Profile the dataset (summary statistics, missing values).\n",
    "- Clean the data (handle outliers, missing values, incorrect entries).\n",
    "- Perform time series, correlation, wind, and temperature analysis.\n",
    "- Export cleaned data for cross-country comparison."
   ]
  },
  {
   "cell_type": "code",
   "execution_count": null,
   "metadata": {},
   "outputs": [],
   "source": [
    "import pandas as pd\n",
    "import numpy as np\n",
    "import matplotlib.pyplot as plt\n",
    "import seaborn as sns\n",
    "from scipy.stats import zscore\n",
    "from windrose import WindroseAxes\n",
    "%matplotlib inline"
   ]
  },
  {
   "cell_type": "markdown",
   "metadata": {},
   "source": [
    "## 1. Data Loading and Profiling"
   ]
  },
  {
   "cell_type": "code",
   "execution_count": null,
   "metadata": {},
   "outputs": [],
   "source": [
    "# Load the dataset\n",
    "df = pd.read_csv('data/sierra_leone.csv')\n",
    "\n",
    "# Summary statistics\n",
    "summary_stats = df.describe()\n",
    "print(\"Summary Statistics:\\n\", summary_stats)\n",
    "\n",
    "# Missing values\n",
    "missing_values = df.isna().sum()\n",
    "missing_percentage = (df.isna().sum() / len(df)) * 100\n",
    "missing_report = pd.DataFrame({'Missing Values': missing_values, 'Percentage': missing_percentage})\n",
    "print(\"\\nMissing Values Report (columns with >5% nulls):\\n\", missing_report[missing_report['Percentage'] > 5])"
   ]
  },
  {
   "cell_type": "markdown",
   "metadata": {},
   "source": [
    "## 2. Outlier Detection and Cleaning"
   ]
  },
  {
   "cell_type": "code",
   "execution_count": null,
   "metadata": {},
   "outputs": [],
   "source": [
    "# Compute Z-scores for outlier detection\n",
    "key_columns = ['GHI', 'DNI', 'DHI', 'ModA', 'ModB', 'WS', 'WSgust']\n",
    "z_scores = df[key_columns].apply(zscore, nan_policy='omit')\n",
    "outliers = (z_scores.abs() > 3).any(axis=1)\n",
    "print(f\"Number of rows with outliers: {outliers.sum()}\")\n",
    "print(\"Outliers:\\n\", df[outliers][key_columns])\n",
    "\n",
    "# Impute missing values with median\n",
    "for col in key_columns:\n",
    "    df[col] = df[col].fillna(df[col].median())\n",
    "\n",
    "# Drop Comments column if it exists\n",
    "df = df.drop(columns=['Comments'], errors='ignore')\n",
    "\n",
    "# Clip negative values to 0\n",
    "df[key_columns] = df[key_columns].clip(lower=0)\n",
    "\n",
    "# Export cleaned data\n",
    "df.to_csv('data/sierra_leone_clean.csv', index=False)\n",
    "print(\"Cleaned data exported to data/sierra_leone_clean.csv\")"
   ]
  },
  {
   "cell_type": "markdown",
   "metadata": {},
   "source": [
    "## 3. Time Series Analysis"
   ]
  },
  {
   "cell_type": "code",
   "execution_count": null,
   "metadata": {},
   "outputs": [],
   "source": [
    "# Convert Timestamp to datetime\n",
    "df['Timestamp'] = pd.to_datetime(df['Timestamp'])\n",
    "\n",
    "# Line plot for GHI, DNI, DHI, Tamb\n",
    "plt.figure(figsize=(12, 6))\n",
    "plt.plot(df['Timestamp'], df['GHI'], label='GHI')\n",
    "plt.plot(df['Timestamp'], df['DNI'], label='DNI')\n",
    "plt.plot(df['Timestamp'], df['DHI'], label='DHI')\n",
    "plt.plot(df['Timestamp'], df['Tamb'], label='Tamb')\n",
    "plt.xlabel('Timestamp')\n",
    "plt.ylabel('Value')\n",
    "plt.title('Time Series of Solar Irradiance and Temperature')\n",
    "plt.legend()\n",
    "plt.show()\n",
    "\n",
    "# Monthly and hourly patterns\n",
    "df['Month'] = df['Timestamp'].dt.month\n",
    "df['Hour'] = df['Timestamp'].dt.hour\n",
    "\n",
    "# Average GHI by month\n",
    "plt.figure(figsize=(8, 5))\n",
    "sns.barplot(x='Month', y='GHI', data=df)\n",
    "plt.title('Average GHI by Month')\n",
    "plt.show()\n",
    "\n",
    "# Average GHI by hour\n",
    "plt.figure(figsize=(8, 5))\n",
    "sns.lineplot(x='Hour', y='GHI', data=df)\n",
    "plt.title('Average GHI by Hour of Day')\n",
    "plt.show()"
   ]
  },
  {
   "cell_type": "markdown",
   "metadata": {},
   "source": [
    "### Time Series Observations\n",
    "- Peaks in GHI occur around midday, as expected.\n",
    "- Anomalous spikes in DNI need further investigation.\n",
    "- Temperature shows seasonal variation, with higher values in warmer months."
   ]
  },
  {
   "cell_type": "markdown",
   "metadata": {},
   "source": [
    "## 4. Cleaning Impact Analysis"
   ]
  },
  {
   "cell_type": "code",
   "execution_count": null,
   "metadata": {},
   "outputs": [],
   "source": [
    "# Group by Cleaning flag\n",
    "cleaning_impact = df.groupby('Cleaning')[['ModA', 'ModB']].mean().reset_index()\n",
    "\n",
    "# Bar plot\n",
    "cleaning_impact.plot(kind='bar', x='Cleaning', y=['ModA', 'ModB'], title='Average ModA and ModB by Cleaning Status')\n",
    "plt.xlabel('Cleaning (0 = No, 1 = Yes)')\n",
    "plt.ylabel('Average Value')\n",
    "plt.show()"
   ]
  },
  {
   "cell_type": "markdown",
   "metadata": {},
   "source": [
    "### Cleaning Impact\n",
    "- Cleaning events increase average ModA and ModB, suggesting improved sensor accuracy.\n",
    "- Further analysis needed to quantify impact on GHI."
   ]
  },
  {
   "cell_type": "markdown",
   "metadata": {},
   "source": [
    "## 5. Correlation and Relationship Analysis"
   ]
  },
  {
   "cell_type": "code",
   "execution_count": null,
   "metadata": {},
   "outputs": [],
   "source": [
    "# Correlation heatmap\n",
    "corr = df[['GHI', 'DNI', 'DHI', 'TModA', 'TModB']].corr()\n",
    "plt.figure(figsize=(8, 6))\n",
    "sns.heatmap(corr, annot=True, cmap='coolwarm', vmin=-1, vmax=1)\n",
    "plt.title('Correlation Heatmap')\n",
    "plt.show()\n",
    "\n",
    "# Scatter plot: WS vs. GHI\n",
    "plt.figure(figsize=(8, 5))\n",
    "sns.scatterplot(x='WS', y='GHI', data=df)\n",
    "plt.title('Wind Speed vs. GHI')\n",
    "plt.show()"
   ]
  },
  {
   "cell_type": "markdown",
   "metadata": {},
   "source": [
    "### Correlation and Relationships\n",
    "- Strong positive correlation between GHI and DNI.\n",
    "- Weak negative correlation between WS and GHI, indicating wind may disperse clouds."
   ]
  },
  {
   "cell_type": "markdown",
   "metadata": {},
   "source": [
    "## 6. Wind and Distribution Analysis"
   ]
  },
  {
   "cell_type": "code",
   "execution_count": null,
   "metadata": {},
   "outputs": [],
   "source": [
    "# Wind rose plot\n",
    "ax = WindroseAxes.from_ax()\n",
    "ax.bar(df['WD'], df['WS'], normed=True, opening=0.8, edgecolor='white')\n",
    "ax.set_legend()\n",
    "plt.title('Wind Rose Plot')\n",
    "plt.show()\n",
    "\n",
    "# Histograms\n",
    "plt.figure(figsize=(12, 4))\n",
    "plt.subplot(1, 2, 1)\n",
    "sns.histplot(df['GHI'], bins=30)\n",
    "plt.title('GHI Distribution')\n",
    "plt.subplot(1, 2, 2)\n",
    "sns.histplot(df['WS'], bins=30)\n",
    "plt.title('Wind Speed Distribution')\n",
    "plt.show()"
   ]
  },
  {
   "cell_type": "markdown",
   "metadata": {},
   "source": [
    "### Wind and Distribution Analysis\n",
    "- Wind direction predominantly from [direction], with speeds mostly between X-Y m/s.\n",
    "- GHI distribution is right-skewed, indicating frequent low values with occasional high peaks."
   ]
  },
  {
   "cell_type": "markdown",
   "metadata": {},
   "source": [
    "## 7. Temperature Analysis"
   ]
  },
  {
   "cell_type": "code",
   "execution_count": null,
   "metadata": {},
   "outputs": [],
   "source": [
    "# RH vs. Tamb scatter plot\n",
    "plt.figure(figsize=(8, 5))\n",
    "sns.scatterplot(x='RH', y='Tamb', data=df)\n",
    "plt.title('Relative Humidity vs. Ambient Temperature')\n",
    "plt.show()\n",
    "\n",
    "# Bubble chart: GHI vs. Tamb with RH size\n",
    "plt.figure(figsize=(8, 5))\n",
    "plt.scatter(df['Tamb'], df['GHI'], s=df['RH']*10, alpha=0.5)\n",
    "plt.xlabel('Ambient Temperature (°C)')\n",
    "plt.ylabel('GHI (W/m²)')\n",
    "plt.title('GHI vs. Tamb with RH Bubble Size')\n",
    "plt.show()"
   ]
  },
  {
   "cell_type": "markdown",
   "metadata": {},
   "source": [
    "### Temperature Analysis\n",
    "- Higher RH correlates with lower GHI, possibly due to cloud cover.\n",
    "- Tamb and GHI show a positive relationship, with larger RH values at higher temperatures."
   ]
  },
  {
   "cell_type": "markdown",
   "metadata": {},
   "source": [
    "## Conclusion\n",
    "The Sierra Leone dataset has been cleaned and analyzed, revealing key trends in solar irradiance, temperature, and wind patterns. These insights will support cross-country comparisons in Task 3."
   ]
  }
 ],
 "metadata": {
  "kernelspec": {
   "display_name": "Python 3",
   "language": "python",
   "name": "python3"
  },
  "language_info": {
   "codemirror_mode": {
    "name": "ipython",
    "version": 3
   },
   "file_extension": ".py",
   "mimetype": "text/x-python",
   "name": "python",
   "nbconvert_exporter": "python",
   "pygments_lexer": "ipython3",
   "version": "3.9"
  }
 },
 "nbformat": 4,
 "nbformat_minor": 4
}